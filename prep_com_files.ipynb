{
 "cells": [
  {
   "cell_type": "code",
   "execution_count": 1,
   "metadata": {},
   "outputs": [
    {
     "name": "stdout",
     "output_type": "stream",
     "text": [
      "Copied and updated 124 files in sampled_com.\n"
     ]
    }
   ],
   "source": [
    "import os\n",
    "import shutil\n",
    "import pandas as pd\n",
    "\n",
    "# Read the CSV file to get the list of conformers\n",
    "conformers_df = pd.read_csv('selected_conformers.csv')\n",
    "conformer_list = conformers_df['Conformer #'].tolist()\n",
    "\n",
    "# Create the destination directory if it doesn't exist\n",
    "destination_dir = 'sampled_com'\n",
    "os.makedirs(destination_dir, exist_ok=True)\n",
    "\n",
    "# Copy the files from output_xyz to sampled_xyz\n",
    "source_dir = 'output_xyz'\n",
    "for conformer in conformer_list:\n",
    "    source_file = os.path.join(source_dir, f'conf_{conformer}.xyz')\n",
    "    destination_file = os.path.join(destination_dir, f'conf_{conformer}.com')\n",
    "    if os.path.exists(source_file):\n",
    "        shutil.copy(source_file, destination_file)\n",
    "\n",
    "# Update the content of each .xyz file\n",
    "def update_xyz_file(file_path):\n",
    "    with open(file_path, 'r') as file:\n",
    "        lines = file.readlines()\n",
    "    \n",
    "    # Remove the first 2 lines\n",
    "    lines = lines[2:]\n",
    "    \n",
    "    # Add the specified lines to the top of the file\n",
    "    new_lines = [\n",
    "        \"%nprocshared=8\\n\",\n",
    "        \"%mem=4GB\\n\",\n",
    "        \"# opt freq B3LYP/6-31G(d,p) scrf=(CPCM,solvent=acetonitrile)\\n\\n\", # update with the method, basis set and parameters you want to use.\n",
    "        f\"conf_{conformer}\\n\\n\",\n",
    "        \"1 1\\n\"\n",
    "    ]\n",
    "    lines = new_lines + lines\n",
    "    \n",
    "    # Add 3 new lines to the end of the file\n",
    "    lines += ['\\n', '\\n', '\\n']\n",
    "\n",
    "    # Write the updated content back to the file\n",
    "    with open(file_path, 'w') as file:\n",
    "        file.writelines(lines)\n",
    "\n",
    "# Update each .xyz file in the sampled_xyz folder\n",
    "for conformer in conformer_list:\n",
    "    file_path = os.path.join(destination_dir, f'conf_{conformer}.com')\n",
    "    if os.path.exists(file_path):\n",
    "        update_xyz_file(file_path)\n",
    "\n",
    "print(f\"Copied and updated {len(conformer_list)} files in {destination_dir}.\")"
   ]
  }
 ],
 "metadata": {
  "kernelspec": {
   "display_name": "Python 3",
   "language": "python",
   "name": "python3"
  },
  "language_info": {
   "codemirror_mode": {
    "name": "ipython",
    "version": 3
   },
   "file_extension": ".py",
   "mimetype": "text/x-python",
   "name": "python",
   "nbconvert_exporter": "python",
   "pygments_lexer": "ipython3",
   "version": "3.12.4"
  }
 },
 "nbformat": 4,
 "nbformat_minor": 2
}
